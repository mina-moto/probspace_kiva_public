{
 "cells": [
  {
   "cell_type": "code",
   "execution_count": 1,
   "metadata": {
    "colab": {
     "base_uri": "https://localhost:8080/"
    },
    "executionInfo": {
     "elapsed": 4571,
     "status": "ok",
     "timestamp": 1641796028207,
     "user": {
      "displayName": "天利安志",
      "photoUrl": "https://lh3.googleusercontent.com/a-/AOh14Ghlh2Mjm2eqXFu1Du_M6IabpV1iUdwIFzVZnD17=s64",
      "userId": "05573188978989199733"
     },
     "user_tz": -540
    },
    "id": "ePyrHnnBNGXw",
    "outputId": "6ff0255c-d416-4539-8a64-3260e6fe627c"
   },
   "outputs": [
    {
     "name": "stdout",
     "output_type": "stream",
     "text": [
      "Defaulting to user installation because normal site-packages is not writeable\n",
      "Requirement already satisfied: textstat in /home/yasushi.amari/.local/lib/python3.8/site-packages (0.7.2)\n",
      "Requirement already satisfied: pyphen in /home/yasushi.amari/.local/lib/python3.8/site-packages (from textstat) (0.12.0)\n"
     ]
    }
   ],
   "source": [
    "!pip install textstat"
   ]
  },
  {
   "cell_type": "code",
   "execution_count": 2,
   "metadata": {
    "colab": {
     "base_uri": "https://localhost:8080/"
    },
    "executionInfo": {
     "elapsed": 12982,
     "status": "ok",
     "timestamp": 1641796041185,
     "user": {
      "displayName": "天利安志",
      "photoUrl": "https://lh3.googleusercontent.com/a-/AOh14Ghlh2Mjm2eqXFu1Du_M6IabpV1iUdwIFzVZnD17=s64",
      "userId": "05573188978989199733"
     },
     "user_tz": -540
    },
    "id": "GnztCVbzqcVp",
    "outputId": "233b6756-8a85-4338-f729-cbe00ce3ef47"
   },
   "outputs": [
    {
     "name": "stdout",
     "output_type": "stream",
     "text": [
      "Defaulting to user installation because normal site-packages is not writeable\n",
      "Requirement already satisfied: spacy in /home/yasushi.amari/.local/lib/python3.8/site-packages (3.2.1)\n",
      "Requirement already satisfied: jinja2 in /usr/local/lib/python3.8/dist-packages (from spacy) (3.0.2)\n",
      "Requirement already satisfied: cymem<2.1.0,>=2.0.2 in /home/yasushi.amari/.local/lib/python3.8/site-packages (from spacy) (2.0.6)\n",
      "Requirement already satisfied: pathy>=0.3.5 in /home/yasushi.amari/.local/lib/python3.8/site-packages (from spacy) (0.6.1)\n",
      "Requirement already satisfied: requests<3.0.0,>=2.13.0 in /usr/lib/python3/dist-packages (from spacy) (2.22.0)\n",
      "Requirement already satisfied: setuptools in /usr/local/lib/python3.8/dist-packages (from spacy) (58.5.2)\n",
      "Requirement already satisfied: pydantic!=1.8,!=1.8.1,<1.9.0,>=1.7.4 in /home/yasushi.amari/.local/lib/python3.8/site-packages (from spacy) (1.8.2)\n",
      "Requirement already satisfied: preshed<3.1.0,>=3.0.2 in /home/yasushi.amari/.local/lib/python3.8/site-packages (from spacy) (3.0.6)\n",
      "Requirement already satisfied: srsly<3.0.0,>=2.4.1 in /home/yasushi.amari/.local/lib/python3.8/site-packages (from spacy) (2.4.2)\n",
      "Requirement already satisfied: thinc<8.1.0,>=8.0.12 in /home/yasushi.amari/.local/lib/python3.8/site-packages (from spacy) (8.0.13)\n",
      "Requirement already satisfied: tqdm<5.0.0,>=4.38.0 in /usr/local/lib/python3.8/dist-packages (from spacy) (4.62.3)\n",
      "Requirement already satisfied: packaging>=20.0 in /usr/local/lib/python3.8/dist-packages (from spacy) (21.2)\n",
      "Requirement already satisfied: catalogue<2.1.0,>=2.0.6 in /home/yasushi.amari/.local/lib/python3.8/site-packages (from spacy) (2.0.6)\n",
      "Requirement already satisfied: langcodes<4.0.0,>=3.2.0 in /home/yasushi.amari/.local/lib/python3.8/site-packages (from spacy) (3.3.0)\n",
      "Requirement already satisfied: numpy>=1.15.0 in /usr/local/lib/python3.8/dist-packages (from spacy) (1.21.3)\n",
      "Requirement already satisfied: wasabi<1.1.0,>=0.8.1 in /home/yasushi.amari/.local/lib/python3.8/site-packages (from spacy) (0.9.0)\n",
      "Requirement already satisfied: blis<0.8.0,>=0.4.0 in /home/yasushi.amari/.local/lib/python3.8/site-packages (from spacy) (0.7.5)\n",
      "Requirement already satisfied: spacy-loggers<2.0.0,>=1.0.0 in /home/yasushi.amari/.local/lib/python3.8/site-packages (from spacy) (1.0.1)\n",
      "Requirement already satisfied: murmurhash<1.1.0,>=0.28.0 in /home/yasushi.amari/.local/lib/python3.8/site-packages (from spacy) (1.0.6)\n",
      "Requirement already satisfied: typer<0.5.0,>=0.3.0 in /home/yasushi.amari/.local/lib/python3.8/site-packages (from spacy) (0.4.0)\n",
      "Requirement already satisfied: spacy-legacy<3.1.0,>=3.0.8 in /home/yasushi.amari/.local/lib/python3.8/site-packages (from spacy) (3.0.8)\n",
      "Requirement already satisfied: pyparsing<3,>=2.0.2 in /usr/local/lib/python3.8/dist-packages (from packaging>=20.0->spacy) (2.4.7)\n",
      "Requirement already satisfied: smart-open<6.0.0,>=5.0.0 in /home/yasushi.amari/.local/lib/python3.8/site-packages (from pathy>=0.3.5->spacy) (5.2.1)\n",
      "Requirement already satisfied: typing-extensions>=3.7.4.3 in /usr/local/lib/python3.8/dist-packages (from pydantic!=1.8,!=1.8.1,<1.9.0,>=1.7.4->spacy) (3.10.0.2)\n",
      "Requirement already satisfied: click<9.0.0,>=7.1.1 in /usr/local/lib/python3.8/dist-packages (from typer<0.5.0,>=0.3.0->spacy) (8.0.3)\n",
      "Requirement already satisfied: MarkupSafe>=2.0 in /usr/local/lib/python3.8/dist-packages (from jinja2->spacy) (2.0.1)\n"
     ]
    }
   ],
   "source": [
    "!pip install -U spacy"
   ]
  },
  {
   "cell_type": "code",
   "execution_count": 3,
   "metadata": {
    "colab": {
     "base_uri": "https://localhost:8080/"
    },
    "executionInfo": {
     "elapsed": 2856,
     "status": "ok",
     "timestamp": 1641796044037,
     "user": {
      "displayName": "天利安志",
      "photoUrl": "https://lh3.googleusercontent.com/a-/AOh14Ghlh2Mjm2eqXFu1Du_M6IabpV1iUdwIFzVZnD17=s64",
      "userId": "05573188978989199733"
     },
     "user_tz": -540
    },
    "id": "27qzMkc7NGXz",
    "outputId": "01039c99-48df-4969-b75f-e1dbab7dc9b0"
   },
   "outputs": [
    {
     "name": "stdout",
     "output_type": "stream",
     "text": [
      "Defaulting to user installation because normal site-packages is not writeable\n",
      "Requirement already satisfied: nltk in /home/yasushi.amari/.local/lib/python3.8/site-packages (3.6.7)\n",
      "Requirement already satisfied: click in /usr/local/lib/python3.8/dist-packages (from nltk) (8.0.3)\n",
      "Requirement already satisfied: regex>=2021.8.3 in /usr/local/lib/python3.8/dist-packages (from nltk) (2022.1.18)\n",
      "Requirement already satisfied: joblib in /usr/local/lib/python3.8/dist-packages (from nltk) (1.1.0)\n",
      "Requirement already satisfied: tqdm in /usr/local/lib/python3.8/dist-packages (from nltk) (4.62.3)\n"
     ]
    }
   ],
   "source": [
    "!pip install nltk"
   ]
  },
  {
   "cell_type": "code",
   "execution_count": 4,
   "metadata": {
    "executionInfo": {
     "elapsed": 9699,
     "status": "ok",
     "timestamp": 1641796053733,
     "user": {
      "displayName": "天利安志",
      "photoUrl": "https://lh3.googleusercontent.com/a-/AOh14Ghlh2Mjm2eqXFu1Du_M6IabpV1iUdwIFzVZnD17=s64",
      "userId": "05573188978989199733"
     },
     "user_tz": -540
    },
    "id": "WnGzog1XNGX0"
   },
   "outputs": [
    {
     "name": "stderr",
     "output_type": "stream",
     "text": [
      "/usr/local/lib/python3.8/dist-packages/statsmodels/compat/pandas.py:65: FutureWarning: pandas.Int64Index is deprecated and will be removed from pandas in a future version. Use pandas.Index with the appropriate dtype instead.\n",
      "  from pandas import Int64Index as NumericIndex\n"
     ]
    }
   ],
   "source": [
    "import numpy as np\n",
    "import pandas as pd\n",
    "import string\n",
    "import re\n",
    "import warnings\n",
    "\n",
    "import textstat\n",
    "from nltk.tokenize import sent_tokenize, word_tokenize\n",
    "from nltk.corpus import stopwords\n",
    "from nltk.stem.porter import PorterStemmer\n",
    "\n",
    "import spacy\n",
    "\n",
    "import category_encoders as ce\n",
    "import joblib\n",
    "\n",
    "warnings.filterwarnings('ignore')"
   ]
  },
  {
   "cell_type": "code",
   "execution_count": 5,
   "metadata": {
    "executionInfo": {
     "elapsed": 7305,
     "status": "ok",
     "timestamp": 1641796134681,
     "user": {
      "displayName": "天利安志",
      "photoUrl": "https://lh3.googleusercontent.com/a-/AOh14Ghlh2Mjm2eqXFu1Du_M6IabpV1iUdwIFzVZnD17=s64",
      "userId": "05573188978989199733"
     },
     "user_tz": -540
    },
    "id": "CehYiBUuNGX1"
   },
   "outputs": [],
   "source": [
    "train_df = pd.read_csv('../../input/train.csv')\n",
    "test_df = pd.read_csv('../../input/test.csv')\n",
    "target = train_df['LOAN_AMOUNT']\n",
    "train_df = train_df.drop('LOAN_AMOUNT', axis=1)"
   ]
  },
  {
   "cell_type": "markdown",
   "metadata": {
    "id": "hHsIQW2zNGX1"
   },
   "source": [
    "## DESCRIPTION_TRANSLATEDの欠損値の置換"
   ]
  },
  {
   "cell_type": "code",
   "execution_count": 6,
   "metadata": {
    "executionInfo": {
     "elapsed": 9,
     "status": "ok",
     "timestamp": 1641796134681,
     "user": {
      "displayName": "天利安志",
      "photoUrl": "https://lh3.googleusercontent.com/a-/AOh14Ghlh2Mjm2eqXFu1Du_M6IabpV1iUdwIFzVZnD17=s64",
      "userId": "05573188978989199733"
     },
     "user_tz": -540
    },
    "id": "zZ20mYUiNGX3"
   },
   "outputs": [],
   "source": [
    "train_df.loc[train_df['DESCRIPTION_TRANSLATED'].isna(), 'DESCRIPTION_TRANSLATED'] = train_df.loc[train_df['DESCRIPTION_TRANSLATED'].isna(), 'DESCRIPTION']"
   ]
  },
  {
   "cell_type": "code",
   "execution_count": 7,
   "metadata": {
    "colab": {
     "base_uri": "https://localhost:8080/"
    },
    "executionInfo": {
     "elapsed": 9,
     "status": "ok",
     "timestamp": 1641796134682,
     "user": {
      "displayName": "天利安志",
      "photoUrl": "https://lh3.googleusercontent.com/a-/AOh14Ghlh2Mjm2eqXFu1Du_M6IabpV1iUdwIFzVZnD17=s64",
      "userId": "05573188978989199733"
     },
     "user_tz": -540
    },
    "id": "nBKT6PwjNGX4",
    "outputId": "f657f715-8520-45e4-bc18-1ea31391f4cb"
   },
   "outputs": [
    {
     "name": "stdout",
     "output_type": "stream",
     "text": [
      "<class 'pandas.core.frame.DataFrame'>\n",
      "RangeIndex: 91333 entries, 0 to 91332\n",
      "Data columns (total 17 columns):\n",
      " #   Column                           Non-Null Count  Dtype  \n",
      "---  ------                           --------------  -----  \n",
      " 0   LOAN_ID                          91333 non-null  int64  \n",
      " 1   ORIGINAL_LANGUAGE                91333 non-null  object \n",
      " 2   DESCRIPTION                      91333 non-null  object \n",
      " 3   DESCRIPTION_TRANSLATED           91333 non-null  object \n",
      " 4   IMAGE_ID                         91333 non-null  int64  \n",
      " 5   ACTIVITY_NAME                    91333 non-null  object \n",
      " 6   SECTOR_NAME                      91333 non-null  object \n",
      " 7   LOAN_USE                         91333 non-null  object \n",
      " 8   COUNTRY_CODE                     91333 non-null  object \n",
      " 9   COUNTRY_NAME                     91333 non-null  object \n",
      " 10  TOWN_NAME                        88573 non-null  object \n",
      " 11  CURRENCY_POLICY                  91333 non-null  object \n",
      " 12  CURRENCY_EXCHANGE_COVERAGE_RATE  82061 non-null  float64\n",
      " 13  CURRENCY                         91333 non-null  object \n",
      " 14  TAGS                             73347 non-null  object \n",
      " 15  REPAYMENT_INTERVAL               91333 non-null  object \n",
      " 16  DISTRIBUTION_MODEL               91333 non-null  object \n",
      "dtypes: float64(1), int64(2), object(14)\n",
      "memory usage: 11.8+ MB\n"
     ]
    }
   ],
   "source": [
    "train_df.info()"
   ]
  },
  {
   "cell_type": "markdown",
   "metadata": {
    "id": "GmIcig7KNGX5"
   },
   "source": [
    "##  DESCRIPTIONとDESCRIPTION_TRANSLATEDの前処理"
   ]
  },
  {
   "cell_type": "code",
   "execution_count": 8,
   "metadata": {
    "executionInfo": {
     "elapsed": 8,
     "status": "ok",
     "timestamp": 1641796134683,
     "user": {
      "displayName": "天利安志",
      "photoUrl": "https://lh3.googleusercontent.com/a-/AOh14Ghlh2Mjm2eqXFu1Du_M6IabpV1iUdwIFzVZnD17=s64",
      "userId": "05573188978989199733"
     },
     "user_tz": -540
    },
    "id": "7BqbR0qyNGX6"
   },
   "outputs": [],
   "source": [
    "puncts = [',', '.', '\"', ':', ')', '(', '-', '!', '?', '|', ';', \"'\", '$', '&', '/', '[', ']', '>', '%', '=', '#', '*', '+', '\\\\', '•',  '~', '@', '£',\n",
    " '·', '_', '{', '}', '©', '^', '®', '`',  '<', '→', '°', '€', '™', '›',  '♥', '←', '×', '§', '″', '′', 'Â', '█', '½', 'à', '…', '\\n', '\\xa0', '\\t',\n",
    " '“', '★', '”', '–', '●', 'â', '►', '−', '¢', '²', '¬', '░', '¶', '↑', '±', '¿', '▾', '═', '¦', '║', '―', '¥', '▓', '—', '‹', '─', '\\u3000', '\\u202f',\n",
    " '▒', '：', '¼', '⊕', '▼', '▪', '†', '■', '’', '▀', '¨', '▄', '♫', '☆', 'é', '¯', '♦', '¤', '▲', 'è', '¸', '¾', 'Ã', '⋅', '‘', '∞', '«',\n",
    " '∙', '）', '↓', '、', '│', '（', '»', '，', '♪', '╩', '╚', '³', '・', '╦', '╣', '╔', '╗', '▬', '❤', 'ï', 'Ø', '¹', '≤', '‡', '√', ]\n",
    "\n",
    "\n",
    "html_tags = ['<p>', '</p>', '<table>', '</table>', '<tr>', '</tr>', '<ul>', '<ol>', '<dl>', '</ul>', '</ol>',\n",
    "             '</dl>', '<li>', '<dd>', '<dt>', '</li>', '</dd>', '</dt>', '<h1>', '</h1>',\n",
    "             '<br>', '<br/>', '<br />','<strong>', '</strong>', '<span>', '</span>', '<blockquote>', '</blockquote>',\n",
    "             '<pre>', '</pre>', '<div>', '</div>', '<h2>', '</h2>', '<h3>', '</h3>', '<h4>', '</h4>', '<h5>', '</h5>',\n",
    "             '<h6>', '</h6>', '<blck>', '<pr>', '<code>', '<th>', '</th>', '<td>', '</td>', '<em>', '</em>']\n",
    "\n",
    "empty_expressions = ['&lt;', '&gt;', '&amp;', '&nbsp;', \n",
    "                     '&emsp;', '&ndash;', '&mdash;', '&ensp;'\n",
    "                     '&quot;', '&#39;']"
   ]
  },
  {
   "cell_type": "code",
   "execution_count": 9,
   "metadata": {
    "executionInfo": {
     "elapsed": 8,
     "status": "ok",
     "timestamp": 1641796134683,
     "user": {
      "displayName": "天利安志",
      "photoUrl": "https://lh3.googleusercontent.com/a-/AOh14Ghlh2Mjm2eqXFu1Du_M6IabpV1iUdwIFzVZnD17=s64",
      "userId": "05573188978989199733"
     },
     "user_tz": -540
    },
    "id": "JrMLFPqLNGX7"
   },
   "outputs": [],
   "source": [
    "def pre_preprocess(x):\n",
    "    return str(x).lower()\n",
    "\n",
    "def rm_spaces(text):\n",
    "    spaces = ['\\u200b', '\\u200e', '\\u202a', '\\u2009', '\\u2028', '\\u202c', '\\ufeff', '\\uf0d8', '\\u2061', '\\u3000', '\\x10', '\\x7f', '\\x9d', '\\xad',\n",
    "              '\\x97', '\\x9c', '\\x8b', '\\x81', '\\x80', '\\x8c', '\\x85', '\\x92', '\\x88', '\\x8d', '\\x80', '\\x8e', '\\x9a', '\\x94', '\\xa0', \n",
    "              '\\x8f', '\\x82', '\\x8a', '\\x93', '\\x90', '\\x83', '\\x96', '\\x9b', '\\x9e', '\\x99', '\\x87', '\\x84', '\\x9f',\n",
    "             ]\n",
    "    for space in spaces:\n",
    "            text = text.replace(space, ' ')\n",
    "    return text\n",
    "\n",
    "def remove_urls(x):\n",
    "    x = re.sub(r'(https?://[a-zA-Z0-9.-]*)', r'', x)\n",
    "\n",
    "    # original\n",
    "    x = re.sub(r'(quote=\\w+\\s?\\w+;?\\w+)', r'', x)\n",
    "    return x\n",
    "\n",
    "def clean_puncts(x):\n",
    "    for punct in puncts:\n",
    "        x = x.replace(punct, f' {punct} ')\n",
    "    return x\n",
    "\n",
    "def clean_html_tags(x, stop_words=[]):      \n",
    "    for r in html_tags:\n",
    "        x = x.replace(r, '')\n",
    "    for r in empty_expressions:\n",
    "        x = x.replace(r, ' ')\n",
    "    for r in stop_words:\n",
    "        x = x.replace(r, '')\n",
    "    return x\n",
    "\n",
    "def preprocess(data):\n",
    "    data = data.apply(lambda x: pre_preprocess(x))\n",
    "    data = data.apply(lambda x: rm_spaces(x))\n",
    "    data = data.apply(lambda x: remove_urls(x))\n",
    "    data = data.apply(lambda x: clean_html_tags(x))\n",
    "    data = data.apply(lambda x: clean_puncts(x))\n",
    "    \n",
    "    return data"
   ]
  },
  {
   "cell_type": "code",
   "execution_count": 10,
   "metadata": {
    "executionInfo": {
     "elapsed": 17079,
     "status": "ok",
     "timestamp": 1641796151755,
     "user": {
      "displayName": "天利安志",
      "photoUrl": "https://lh3.googleusercontent.com/a-/AOh14Ghlh2Mjm2eqXFu1Du_M6IabpV1iUdwIFzVZnD17=s64",
      "userId": "05573188978989199733"
     },
     "user_tz": -540
    },
    "id": "Jo5QvuCvNGX8"
   },
   "outputs": [],
   "source": [
    "train_df['clean_DESCRIPTION_TRANSLATED'] = preprocess(train_df['DESCRIPTION_TRANSLATED'])\n",
    "test_df['clean_DESCRIPTION_TRANSLATED'] = preprocess(test_df['DESCRIPTION_TRANSLATED'])"
   ]
  },
  {
   "cell_type": "code",
   "execution_count": 22,
   "metadata": {
    "colab": {
     "base_uri": "https://localhost:8080/",
     "height": 739
    },
    "executionInfo": {
     "elapsed": 16,
     "status": "ok",
     "timestamp": 1641796151756,
     "user": {
      "displayName": "天利安志",
      "photoUrl": "https://lh3.googleusercontent.com/a-/AOh14Ghlh2Mjm2eqXFu1Du_M6IabpV1iUdwIFzVZnD17=s64",
      "userId": "05573188978989199733"
     },
     "user_tz": -540
    },
    "id": "yl1JGLLoNGX8",
    "outputId": "1a0dcdf0-a778-40a5-e875-ceade4e05fe5"
   },
   "outputs": [
    {
     "data": {
      "text/plain": [
       "'teodora is a 50 - year - old married woman from the town of maribojoc .  she weaves nipa palm  ( used as roof material for thatched houses or dwelling )  .  she has been engaged in this kind of livelihood for more than ten years now ,  serving town residents . this livelihood is a lucrative venture in her place .  right now ,  she needs financial support in order to improve the flow of her business ,  its sales ,  and profit . a loan worth of 5 , 000 php will be used to purchase materials like nipa palm ,  bamboo sticks and nito  ( dried paplam  ( for binding  )  . in the future ,  teodora dreams of expanding her business to make it more productive and profitable to support the schooling of her children . '"
      ]
     },
     "execution_count": 22,
     "metadata": {},
     "output_type": "execute_result"
    }
   ],
   "source": [
    "train_df.loc[0, 'clean_DESCRIPTION_TRANSLATED']"
   ]
  },
  {
   "cell_type": "markdown",
   "metadata": {},
   "source": [
    "## カテゴリエンコーディング"
   ]
  },
  {
   "cell_type": "code",
   "execution_count": 12,
   "metadata": {},
   "outputs": [],
   "source": [
    "# category list\n",
    "OTHER_COUNTRY = ['EG',\n",
    "                 'MZ',\n",
    "                 'HT',\n",
    "                 'MX',\n",
    "                 'BO',\n",
    "                 'US',\n",
    "                 'TO',\n",
    "                 'SB',\n",
    "                 'AL',\n",
    "                 'CR',\n",
    "                 'GE',\n",
    "                 'SL',\n",
    "                 'ZM',\n",
    "                 'FJ',\n",
    "                 'BR',\n",
    "                 'MD',\n",
    "                 'ML',\n",
    "                 'CM',\n",
    "                 'MW',\n",
    "                 'DO',\n",
    "                 'XK',\n",
    "                 'TR',\n",
    "                 'TH',\n",
    "                 'NP',\n",
    "                 'PG',\n",
    "                 'PA',\n",
    "                 'PR',\n",
    "                 'LS',\n",
    "                 'IL',\n",
    "                 'AM']\n",
    "\n",
    "OTHER_SECTOR_NAME = ['Transportation',\n",
    "                    'Construction',\n",
    "                    'Manufacturing',\n",
    "                    'Entertainment',\n",
    "                    'Wholesale']"
   ]
  },
  {
   "cell_type": "code",
   "execution_count": 13,
   "metadata": {},
   "outputs": [],
   "source": [
    "train_df['SECTOR_NAME'] = train_df['SECTOR_NAME'].apply(lambda x: x if x not in OTHER_SECTOR_NAME else 'other')\n",
    "train_df['COUNTRY_CODE'] = train_df['COUNTRY_CODE'].apply(lambda x: x if x not in OTHER_COUNTRY else 'other')\n",
    "\n",
    "test_df['SECTOR_NAME'] = test_df['SECTOR_NAME'].apply(lambda x: x if x not in OTHER_SECTOR_NAME else 'other')\n",
    "test_df['COUNTRY_CODE'] = test_df['COUNTRY_CODE'].apply(lambda x: x if x not in OTHER_COUNTRY else 'other')"
   ]
  },
  {
   "cell_type": "code",
   "execution_count": 14,
   "metadata": {},
   "outputs": [
    {
     "data": {
      "text/html": [
       "<div>\n",
       "<style scoped>\n",
       "    .dataframe tbody tr th:only-of-type {\n",
       "        vertical-align: middle;\n",
       "    }\n",
       "\n",
       "    .dataframe tbody tr th {\n",
       "        vertical-align: top;\n",
       "    }\n",
       "\n",
       "    .dataframe thead th {\n",
       "        text-align: right;\n",
       "    }\n",
       "</style>\n",
       "<table border=\"1\" class=\"dataframe\">\n",
       "  <thead>\n",
       "    <tr style=\"text-align: right;\">\n",
       "      <th></th>\n",
       "      <th>LOAN_ID</th>\n",
       "      <th>ORIGINAL_LANGUAGE</th>\n",
       "      <th>DESCRIPTION</th>\n",
       "      <th>DESCRIPTION_TRANSLATED</th>\n",
       "      <th>IMAGE_ID</th>\n",
       "      <th>ACTIVITY_NAME</th>\n",
       "      <th>SECTOR_NAME</th>\n",
       "      <th>LOAN_USE</th>\n",
       "      <th>COUNTRY_CODE</th>\n",
       "      <th>COUNTRY_NAME</th>\n",
       "      <th>TOWN_NAME</th>\n",
       "      <th>CURRENCY_POLICY</th>\n",
       "      <th>CURRENCY_EXCHANGE_COVERAGE_RATE</th>\n",
       "      <th>CURRENCY</th>\n",
       "      <th>TAGS</th>\n",
       "      <th>REPAYMENT_INTERVAL</th>\n",
       "      <th>DISTRIBUTION_MODEL</th>\n",
       "      <th>clean_DESCRIPTION_TRANSLATED</th>\n",
       "    </tr>\n",
       "  </thead>\n",
       "  <tbody>\n",
       "    <tr>\n",
       "      <th>0</th>\n",
       "      <td>1733169</td>\n",
       "      <td>English</td>\n",
       "      <td>Teodora is a 50-year-old married woman from th...</td>\n",
       "      <td>Teodora is a 50-year-old married woman from th...</td>\n",
       "      <td>3115271</td>\n",
       "      <td>Weaving</td>\n",
       "      <td>Arts</td>\n",
       "      <td>to purchase  materials like nipa palm, bamboo ...</td>\n",
       "      <td>PH</td>\n",
       "      <td>Philippines</td>\n",
       "      <td>Maribojoc, Bohol</td>\n",
       "      <td>shared</td>\n",
       "      <td>0.1</td>\n",
       "      <td>PHP</td>\n",
       "      <td>#Elderly</td>\n",
       "      <td>monthly</td>\n",
       "      <td>field_partner</td>\n",
       "      <td>teodora is a 50 - year - old married woman fro...</td>\n",
       "    </tr>\n",
       "    <tr>\n",
       "      <th>1</th>\n",
       "      <td>1546998</td>\n",
       "      <td>English</td>\n",
       "      <td>Diego is 32 years old and lives in the municip...</td>\n",
       "      <td>Diego is 32 years old and lives in the municip...</td>\n",
       "      <td>2870403</td>\n",
       "      <td>Barber Shop</td>\n",
       "      <td>Services</td>\n",
       "      <td>to buy two hair clippers, a new barber chair, ...</td>\n",
       "      <td>CO</td>\n",
       "      <td>Colombia</td>\n",
       "      <td>Apartadó</td>\n",
       "      <td>shared</td>\n",
       "      <td>0.1</td>\n",
       "      <td>COP</td>\n",
       "      <td>user_favorite, user_favorite</td>\n",
       "      <td>monthly</td>\n",
       "      <td>field_partner</td>\n",
       "      <td>diego is 32 years old and lives in the municip...</td>\n",
       "    </tr>\n",
       "    <tr>\n",
       "      <th>2</th>\n",
       "      <td>1808517</td>\n",
       "      <td>Spanish</td>\n",
       "      <td>Osman, es un joven de 27 años de edad, soltero...</td>\n",
       "      <td>Osman is a young man, 27 years old, single, an...</td>\n",
       "      <td>3215705</td>\n",
       "      <td>Farming</td>\n",
       "      <td>Agriculture</td>\n",
       "      <td>to purchase sacks of fertilizers to care for a...</td>\n",
       "      <td>HN</td>\n",
       "      <td>Honduras</td>\n",
       "      <td>Nueva Frontera, Santa Barbara.</td>\n",
       "      <td>shared</td>\n",
       "      <td>0.1</td>\n",
       "      <td>HNL</td>\n",
       "      <td>NaN</td>\n",
       "      <td>bullet</td>\n",
       "      <td>field_partner</td>\n",
       "      <td>osman is a young man ,  27 years old ,  single...</td>\n",
       "    </tr>\n",
       "    <tr>\n",
       "      <th>3</th>\n",
       "      <td>1452940</td>\n",
       "      <td>English</td>\n",
       "      <td>His name is Nino, 31 years old, married to Che...</td>\n",
       "      <td>His name is Nino, 31 years old, married to Che...</td>\n",
       "      <td>2745031</td>\n",
       "      <td>Motorcycle Transport</td>\n",
       "      <td>other</td>\n",
       "      <td>to pay for fuel, tires and change oil for his ...</td>\n",
       "      <td>PH</td>\n",
       "      <td>Philippines</td>\n",
       "      <td>Silang, Cavite</td>\n",
       "      <td>shared</td>\n",
       "      <td>0.1</td>\n",
       "      <td>PHP</td>\n",
       "      <td>user_favorite</td>\n",
       "      <td>monthly</td>\n",
       "      <td>field_partner</td>\n",
       "      <td>his name is nino ,  31 years old ,  married to...</td>\n",
       "    </tr>\n",
       "    <tr>\n",
       "      <th>4</th>\n",
       "      <td>1778420</td>\n",
       "      <td>English</td>\n",
       "      <td>Pictured above is Teresa, often described as a...</td>\n",
       "      <td>Pictured above is Teresa, often described as a...</td>\n",
       "      <td>3083800</td>\n",
       "      <td>Farming</td>\n",
       "      <td>Agriculture</td>\n",
       "      <td>to purchase hybrid seeds and fertilizer to imp...</td>\n",
       "      <td>KE</td>\n",
       "      <td>Kenya</td>\n",
       "      <td>Mumias</td>\n",
       "      <td>shared</td>\n",
       "      <td>0.1</td>\n",
       "      <td>KES</td>\n",
       "      <td>#Eco-friendly, #Sustainable Ag, #Parent, #Elde...</td>\n",
       "      <td>bullet</td>\n",
       "      <td>field_partner</td>\n",
       "      <td>pictured above is teresa ,  often described as...</td>\n",
       "    </tr>\n",
       "  </tbody>\n",
       "</table>\n",
       "</div>"
      ],
      "text/plain": [
       "   LOAN_ID ORIGINAL_LANGUAGE  \\\n",
       "0  1733169           English   \n",
       "1  1546998           English   \n",
       "2  1808517           Spanish   \n",
       "3  1452940           English   \n",
       "4  1778420           English   \n",
       "\n",
       "                                         DESCRIPTION  \\\n",
       "0  Teodora is a 50-year-old married woman from th...   \n",
       "1  Diego is 32 years old and lives in the municip...   \n",
       "2  Osman, es un joven de 27 años de edad, soltero...   \n",
       "3  His name is Nino, 31 years old, married to Che...   \n",
       "4  Pictured above is Teresa, often described as a...   \n",
       "\n",
       "                              DESCRIPTION_TRANSLATED  IMAGE_ID  \\\n",
       "0  Teodora is a 50-year-old married woman from th...   3115271   \n",
       "1  Diego is 32 years old and lives in the municip...   2870403   \n",
       "2  Osman is a young man, 27 years old, single, an...   3215705   \n",
       "3  His name is Nino, 31 years old, married to Che...   2745031   \n",
       "4  Pictured above is Teresa, often described as a...   3083800   \n",
       "\n",
       "          ACTIVITY_NAME  SECTOR_NAME  \\\n",
       "0               Weaving         Arts   \n",
       "1           Barber Shop     Services   \n",
       "2               Farming  Agriculture   \n",
       "3  Motorcycle Transport        other   \n",
       "4               Farming  Agriculture   \n",
       "\n",
       "                                            LOAN_USE COUNTRY_CODE  \\\n",
       "0  to purchase  materials like nipa palm, bamboo ...           PH   \n",
       "1  to buy two hair clippers, a new barber chair, ...           CO   \n",
       "2  to purchase sacks of fertilizers to care for a...           HN   \n",
       "3  to pay for fuel, tires and change oil for his ...           PH   \n",
       "4  to purchase hybrid seeds and fertilizer to imp...           KE   \n",
       "\n",
       "  COUNTRY_NAME                       TOWN_NAME CURRENCY_POLICY  \\\n",
       "0  Philippines                Maribojoc, Bohol          shared   \n",
       "1     Colombia                        Apartadó          shared   \n",
       "2     Honduras  Nueva Frontera, Santa Barbara.          shared   \n",
       "3  Philippines                  Silang, Cavite          shared   \n",
       "4        Kenya                          Mumias          shared   \n",
       "\n",
       "   CURRENCY_EXCHANGE_COVERAGE_RATE CURRENCY  \\\n",
       "0                              0.1      PHP   \n",
       "1                              0.1      COP   \n",
       "2                              0.1      HNL   \n",
       "3                              0.1      PHP   \n",
       "4                              0.1      KES   \n",
       "\n",
       "                                                TAGS REPAYMENT_INTERVAL  \\\n",
       "0                                           #Elderly            monthly   \n",
       "1                       user_favorite, user_favorite            monthly   \n",
       "2                                                NaN             bullet   \n",
       "3                                      user_favorite            monthly   \n",
       "4  #Eco-friendly, #Sustainable Ag, #Parent, #Elde...             bullet   \n",
       "\n",
       "  DISTRIBUTION_MODEL                       clean_DESCRIPTION_TRANSLATED  \n",
       "0      field_partner  teodora is a 50 - year - old married woman fro...  \n",
       "1      field_partner  diego is 32 years old and lives in the municip...  \n",
       "2      field_partner  osman is a young man ,  27 years old ,  single...  \n",
       "3      field_partner  his name is nino ,  31 years old ,  married to...  \n",
       "4      field_partner  pictured above is teresa ,  often described as...  "
      ]
     },
     "execution_count": 14,
     "metadata": {},
     "output_type": "execute_result"
    }
   ],
   "source": [
    "df = pd.concat([train_df, test_df]).reset_index(drop=True)\n",
    "df.head()"
   ]
  },
  {
   "cell_type": "code",
   "execution_count": 15,
   "metadata": {},
   "outputs": [
    {
     "data": {
      "text/plain": [
       "['ce_label_enc.joblib']"
      ]
     },
     "execution_count": 15,
     "metadata": {},
     "output_type": "execute_result"
    }
   ],
   "source": [
    "label_enc_features = ['SECTOR_NAME', 'COUNTRY_CODE']\n",
    "ce_label_enc = ce.OrdinalEncoder(cols=label_enc_features, handle_unknown='impute')\n",
    "ce_label_enc.fit(df)\n",
    "\n",
    "train_df = ce_label_enc.transform(train_df)\n",
    "test_df = ce_label_enc.transform(test_df)\n",
    "\n",
    "joblib.dump(ce_label_enc, 'ce_label_enc.joblib')"
   ]
  },
  {
   "cell_type": "code",
   "execution_count": 16,
   "metadata": {},
   "outputs": [],
   "source": [
    "train_df['SECTOR_NAME'] = train_df['SECTOR_NAME'] - 1\n",
    "train_df['COUNTRY_CODE'] = train_df['COUNTRY_CODE'] - 1\n",
    "\n",
    "test_df['SECTOR_NAME'] = test_df['SECTOR_NAME'] - 1\n",
    "test_df['COUNTRY_CODE'] = test_df['COUNTRY_CODE'] - 1"
   ]
  },
  {
   "cell_type": "code",
   "execution_count": 17,
   "metadata": {},
   "outputs": [
    {
     "data": {
      "text/plain": [
       "2     24965\n",
       "4     18701\n",
       "6     15155\n",
       "7      8185\n",
       "1      5491\n",
       "8      4372\n",
       "9      4124\n",
       "5      3533\n",
       "3      3122\n",
       "0      1977\n",
       "10     1708\n",
       "Name: SECTOR_NAME, dtype: int64"
      ]
     },
     "execution_count": 17,
     "metadata": {},
     "output_type": "execute_result"
    }
   ],
   "source": [
    "train_df['SECTOR_NAME'].value_counts()"
   ]
  },
  {
   "cell_type": "code",
   "execution_count": 18,
   "metadata": {},
   "outputs": [
    {
     "data": {
      "text/plain": [
       "2     29058\n",
       "4     20790\n",
       "6     17756\n",
       "7      4816\n",
       "1      4255\n",
       "8      3924\n",
       "5      3099\n",
       "9      2746\n",
       "3      2279\n",
       "0      1664\n",
       "10     1435\n",
       "Name: SECTOR_NAME, dtype: int64"
      ]
     },
     "execution_count": 18,
     "metadata": {},
     "output_type": "execute_result"
    }
   ],
   "source": [
    "test_df['SECTOR_NAME'].value_counts()"
   ]
  },
  {
   "cell_type": "code",
   "execution_count": 19,
   "metadata": {},
   "outputs": [],
   "source": [
    "train_df['LOAN_AMOUNT'] = target"
   ]
  },
  {
   "cell_type": "code",
   "execution_count": 20,
   "metadata": {},
   "outputs": [
    {
     "data": {
      "text/html": [
       "<div>\n",
       "<style scoped>\n",
       "    .dataframe tbody tr th:only-of-type {\n",
       "        vertical-align: middle;\n",
       "    }\n",
       "\n",
       "    .dataframe tbody tr th {\n",
       "        vertical-align: top;\n",
       "    }\n",
       "\n",
       "    .dataframe thead th {\n",
       "        text-align: right;\n",
       "    }\n",
       "</style>\n",
       "<table border=\"1\" class=\"dataframe\">\n",
       "  <thead>\n",
       "    <tr style=\"text-align: right;\">\n",
       "      <th></th>\n",
       "      <th>LOAN_ID</th>\n",
       "      <th>ORIGINAL_LANGUAGE</th>\n",
       "      <th>DESCRIPTION</th>\n",
       "      <th>DESCRIPTION_TRANSLATED</th>\n",
       "      <th>IMAGE_ID</th>\n",
       "      <th>ACTIVITY_NAME</th>\n",
       "      <th>SECTOR_NAME</th>\n",
       "      <th>LOAN_USE</th>\n",
       "      <th>COUNTRY_CODE</th>\n",
       "      <th>COUNTRY_NAME</th>\n",
       "      <th>TOWN_NAME</th>\n",
       "      <th>CURRENCY_POLICY</th>\n",
       "      <th>CURRENCY_EXCHANGE_COVERAGE_RATE</th>\n",
       "      <th>CURRENCY</th>\n",
       "      <th>TAGS</th>\n",
       "      <th>REPAYMENT_INTERVAL</th>\n",
       "      <th>DISTRIBUTION_MODEL</th>\n",
       "      <th>clean_DESCRIPTION_TRANSLATED</th>\n",
       "      <th>LOAN_AMOUNT</th>\n",
       "    </tr>\n",
       "  </thead>\n",
       "  <tbody>\n",
       "    <tr>\n",
       "      <th>0</th>\n",
       "      <td>1733169</td>\n",
       "      <td>English</td>\n",
       "      <td>Teodora is a 50-year-old married woman from th...</td>\n",
       "      <td>Teodora is a 50-year-old married woman from th...</td>\n",
       "      <td>3115271</td>\n",
       "      <td>Weaving</td>\n",
       "      <td>0</td>\n",
       "      <td>to purchase  materials like nipa palm, bamboo ...</td>\n",
       "      <td>0</td>\n",
       "      <td>Philippines</td>\n",
       "      <td>Maribojoc, Bohol</td>\n",
       "      <td>shared</td>\n",
       "      <td>0.1</td>\n",
       "      <td>PHP</td>\n",
       "      <td>#Elderly</td>\n",
       "      <td>monthly</td>\n",
       "      <td>field_partner</td>\n",
       "      <td>teodora is a 50 - year - old married woman fro...</td>\n",
       "      <td>100</td>\n",
       "    </tr>\n",
       "    <tr>\n",
       "      <th>1</th>\n",
       "      <td>1546998</td>\n",
       "      <td>English</td>\n",
       "      <td>Diego is 32 years old and lives in the municip...</td>\n",
       "      <td>Diego is 32 years old and lives in the municip...</td>\n",
       "      <td>2870403</td>\n",
       "      <td>Barber Shop</td>\n",
       "      <td>1</td>\n",
       "      <td>to buy two hair clippers, a new barber chair, ...</td>\n",
       "      <td>1</td>\n",
       "      <td>Colombia</td>\n",
       "      <td>Apartadó</td>\n",
       "      <td>shared</td>\n",
       "      <td>0.1</td>\n",
       "      <td>COP</td>\n",
       "      <td>user_favorite, user_favorite</td>\n",
       "      <td>monthly</td>\n",
       "      <td>field_partner</td>\n",
       "      <td>diego is 32 years old and lives in the municip...</td>\n",
       "      <td>1350</td>\n",
       "    </tr>\n",
       "    <tr>\n",
       "      <th>2</th>\n",
       "      <td>1808517</td>\n",
       "      <td>Spanish</td>\n",
       "      <td>Osman, es un joven de 27 años de edad, soltero...</td>\n",
       "      <td>Osman is a young man, 27 years old, single, an...</td>\n",
       "      <td>3215705</td>\n",
       "      <td>Farming</td>\n",
       "      <td>2</td>\n",
       "      <td>to purchase sacks of fertilizers to care for a...</td>\n",
       "      <td>2</td>\n",
       "      <td>Honduras</td>\n",
       "      <td>Nueva Frontera, Santa Barbara.</td>\n",
       "      <td>shared</td>\n",
       "      <td>0.1</td>\n",
       "      <td>HNL</td>\n",
       "      <td>NaN</td>\n",
       "      <td>bullet</td>\n",
       "      <td>field_partner</td>\n",
       "      <td>osman is a young man ,  27 years old ,  single...</td>\n",
       "      <td>225</td>\n",
       "    </tr>\n",
       "    <tr>\n",
       "      <th>3</th>\n",
       "      <td>1452940</td>\n",
       "      <td>English</td>\n",
       "      <td>His name is Nino, 31 years old, married to Che...</td>\n",
       "      <td>His name is Nino, 31 years old, married to Che...</td>\n",
       "      <td>2745031</td>\n",
       "      <td>Motorcycle Transport</td>\n",
       "      <td>3</td>\n",
       "      <td>to pay for fuel, tires and change oil for his ...</td>\n",
       "      <td>0</td>\n",
       "      <td>Philippines</td>\n",
       "      <td>Silang, Cavite</td>\n",
       "      <td>shared</td>\n",
       "      <td>0.1</td>\n",
       "      <td>PHP</td>\n",
       "      <td>user_favorite</td>\n",
       "      <td>monthly</td>\n",
       "      <td>field_partner</td>\n",
       "      <td>his name is nino ,  31 years old ,  married to...</td>\n",
       "      <td>350</td>\n",
       "    </tr>\n",
       "    <tr>\n",
       "      <th>4</th>\n",
       "      <td>1778420</td>\n",
       "      <td>English</td>\n",
       "      <td>Pictured above is Teresa, often described as a...</td>\n",
       "      <td>Pictured above is Teresa, often described as a...</td>\n",
       "      <td>3083800</td>\n",
       "      <td>Farming</td>\n",
       "      <td>2</td>\n",
       "      <td>to purchase hybrid seeds and fertilizer to imp...</td>\n",
       "      <td>3</td>\n",
       "      <td>Kenya</td>\n",
       "      <td>Mumias</td>\n",
       "      <td>shared</td>\n",
       "      <td>0.1</td>\n",
       "      <td>KES</td>\n",
       "      <td>#Eco-friendly, #Sustainable Ag, #Parent, #Elde...</td>\n",
       "      <td>bullet</td>\n",
       "      <td>field_partner</td>\n",
       "      <td>pictured above is teresa ,  often described as...</td>\n",
       "      <td>625</td>\n",
       "    </tr>\n",
       "  </tbody>\n",
       "</table>\n",
       "</div>"
      ],
      "text/plain": [
       "   LOAN_ID ORIGINAL_LANGUAGE  \\\n",
       "0  1733169           English   \n",
       "1  1546998           English   \n",
       "2  1808517           Spanish   \n",
       "3  1452940           English   \n",
       "4  1778420           English   \n",
       "\n",
       "                                         DESCRIPTION  \\\n",
       "0  Teodora is a 50-year-old married woman from th...   \n",
       "1  Diego is 32 years old and lives in the municip...   \n",
       "2  Osman, es un joven de 27 años de edad, soltero...   \n",
       "3  His name is Nino, 31 years old, married to Che...   \n",
       "4  Pictured above is Teresa, often described as a...   \n",
       "\n",
       "                              DESCRIPTION_TRANSLATED  IMAGE_ID  \\\n",
       "0  Teodora is a 50-year-old married woman from th...   3115271   \n",
       "1  Diego is 32 years old and lives in the municip...   2870403   \n",
       "2  Osman is a young man, 27 years old, single, an...   3215705   \n",
       "3  His name is Nino, 31 years old, married to Che...   2745031   \n",
       "4  Pictured above is Teresa, often described as a...   3083800   \n",
       "\n",
       "          ACTIVITY_NAME  SECTOR_NAME  \\\n",
       "0               Weaving            0   \n",
       "1           Barber Shop            1   \n",
       "2               Farming            2   \n",
       "3  Motorcycle Transport            3   \n",
       "4               Farming            2   \n",
       "\n",
       "                                            LOAN_USE  COUNTRY_CODE  \\\n",
       "0  to purchase  materials like nipa palm, bamboo ...             0   \n",
       "1  to buy two hair clippers, a new barber chair, ...             1   \n",
       "2  to purchase sacks of fertilizers to care for a...             2   \n",
       "3  to pay for fuel, tires and change oil for his ...             0   \n",
       "4  to purchase hybrid seeds and fertilizer to imp...             3   \n",
       "\n",
       "  COUNTRY_NAME                       TOWN_NAME CURRENCY_POLICY  \\\n",
       "0  Philippines                Maribojoc, Bohol          shared   \n",
       "1     Colombia                        Apartadó          shared   \n",
       "2     Honduras  Nueva Frontera, Santa Barbara.          shared   \n",
       "3  Philippines                  Silang, Cavite          shared   \n",
       "4        Kenya                          Mumias          shared   \n",
       "\n",
       "   CURRENCY_EXCHANGE_COVERAGE_RATE CURRENCY  \\\n",
       "0                              0.1      PHP   \n",
       "1                              0.1      COP   \n",
       "2                              0.1      HNL   \n",
       "3                              0.1      PHP   \n",
       "4                              0.1      KES   \n",
       "\n",
       "                                                TAGS REPAYMENT_INTERVAL  \\\n",
       "0                                           #Elderly            monthly   \n",
       "1                       user_favorite, user_favorite            monthly   \n",
       "2                                                NaN             bullet   \n",
       "3                                      user_favorite            monthly   \n",
       "4  #Eco-friendly, #Sustainable Ag, #Parent, #Elde...             bullet   \n",
       "\n",
       "  DISTRIBUTION_MODEL                       clean_DESCRIPTION_TRANSLATED  \\\n",
       "0      field_partner  teodora is a 50 - year - old married woman fro...   \n",
       "1      field_partner  diego is 32 years old and lives in the municip...   \n",
       "2      field_partner  osman is a young man ,  27 years old ,  single...   \n",
       "3      field_partner  his name is nino ,  31 years old ,  married to...   \n",
       "4      field_partner  pictured above is teresa ,  often described as...   \n",
       "\n",
       "   LOAN_AMOUNT  \n",
       "0          100  \n",
       "1         1350  \n",
       "2          225  \n",
       "3          350  \n",
       "4          625  "
      ]
     },
     "execution_count": 20,
     "metadata": {},
     "output_type": "execute_result"
    }
   ],
   "source": [
    "train_df.head()"
   ]
  },
  {
   "cell_type": "code",
   "execution_count": 21,
   "metadata": {
    "executionInfo": {
     "elapsed": 98493,
     "status": "ok",
     "timestamp": 1641803288248,
     "user": {
      "displayName": "天利安志",
      "photoUrl": "https://lh3.googleusercontent.com/a-/AOh14Ghlh2Mjm2eqXFu1Du_M6IabpV1iUdwIFzVZnD17=s64",
      "userId": "05573188978989199733"
     },
     "user_tz": -540
    },
    "id": "5IkSCWPADWr3"
   },
   "outputs": [],
   "source": [
    "train_df.to_csv('preprocess_train.csv', index=False)\n",
    "test_df.to_csv('preprocess_test.csv', index=False)"
   ]
  },
  {
   "cell_type": "code",
   "execution_count": 23,
   "metadata": {
    "id": "9oih9FHUICb1"
   },
   "outputs": [
    {
     "data": {
      "text/plain": [
       "'marcela is 69 years old and married with ten children .  marcela works very hard to provide for them . she runs a general store in the philippines and requested a 30 , 000 php loan through nwtf to buy items to sell like canned goods and personal care products . she has been in this business for 25 years . in the future marcela would like to build and expand her business to secure the future of her family . '"
      ]
     },
     "execution_count": 23,
     "metadata": {},
     "output_type": "execute_result"
    }
   ],
   "source": [
    "test_df.loc[0, 'clean_DESCRIPTION_TRANSLATED']"
   ]
  },
  {
   "cell_type": "code",
   "execution_count": 24,
   "metadata": {},
   "outputs": [
    {
     "data": {
      "text/plain": [
       "'teodora is a 50 - year - old married woman from the town of maribojoc .  she weaves nipa palm  ( used as roof material for thatched houses or dwelling )  .  she has been engaged in this kind of livelihood for more than ten years now ,  serving town residents . this livelihood is a lucrative venture in her place .  right now ,  she needs financial support in order to improve the flow of her business ,  its sales ,  and profit . a loan worth of 5 , 000 php will be used to purchase materials like nipa palm ,  bamboo sticks and nito  ( dried paplam  ( for binding  )  . in the future ,  teodora dreams of expanding her business to make it more productive and profitable to support the schooling of her children . '"
      ]
     },
     "execution_count": 24,
     "metadata": {},
     "output_type": "execute_result"
    }
   ],
   "source": [
    "train_df.loc[0, 'clean_DESCRIPTION_TRANSLATED']"
   ]
  },
  {
   "cell_type": "code",
   "execution_count": null,
   "metadata": {},
   "outputs": [],
   "source": []
  }
 ],
 "metadata": {
  "colab": {
   "background_execution": "on",
   "collapsed_sections": [],
   "machine_shape": "hm",
   "name": "preprocess_v1.ipynb",
   "provenance": []
  },
  "kernelspec": {
   "display_name": "Python 3",
   "language": "python",
   "name": "python3"
  },
  "language_info": {
   "codemirror_mode": {
    "name": "ipython",
    "version": 3
   },
   "file_extension": ".py",
   "mimetype": "text/x-python",
   "name": "python",
   "nbconvert_exporter": "python",
   "pygments_lexer": "ipython3",
   "version": "3.8.10"
  }
 },
 "nbformat": 4,
 "nbformat_minor": 1
}
